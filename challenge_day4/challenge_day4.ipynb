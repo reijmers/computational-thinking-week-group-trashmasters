{
 "cells": [
  {
   "cell_type": "markdown",
   "metadata": {},
   "source": [
    "# Lost in Translation Challenge\n",
    "As the last group challenge, today you will discover the endless possibilities for yourselves. In fact, when you learn the first programming language (python for you), you have already opened the door to directly use other all other programming languages, as the basic logic is common to all of them.\n",
    "\n",
    "The last challenge is a multi-language challenge, where you will try to complete this challenge using different programming languages. We have carefully prepared 6 other languages for you, and each person in your group will be responsible for one language. (If there are only 5 people on the group, you can ignore the last language, i.e., Scala).\n",
    "\n",
    "- The first person will be responsible for the R programming language\n",
    "- The second person will be responsible for Go/Golang\n",
    "- The third person will be responsible for Julia\n",
    "- The fourth person will be responsible for Lua\n",
    "- The fifth person will be responsible for Rust\n",
    "- The sixth person will work on Scala\n",
    "\n",
    "## Part 1\n",
    "As the first part of the challenge, you need to try to install the corresponding language yourselves. And run a \"Hello World\" program. The program is very simple and actually it is already well written for you in the materials, you just need to try to run it.\n",
    "\n",
    "## Part 2\n",
    "For the second part of the challenge, you need to successfully run a more complex program. We've written the programs for you, but each of them now still has a minor error (you don't need to know the language to spot them). You need to find this small error and then finish running the program. Each successful run will take a piece of data as input, called data(x), and produce data(x+1) as output. The output data(x+1) will be the input for next program. In this way, from data1 you will eventually get to data7. We have prepared test data that has been run successfully so that you do not have to wait until the previous person has finished before you can test it.\n",
    "\n",
    "When all the procedures have run successfully, your group together will be able to perform a total of 6 programs. At this point, please convert the full data “data1.json” into data7 through all 6 programs.\n",
    "\n",
    "## Notes\n",
    "- You don’t need the knowledge of other language to complete this task.\n",
    "- When installing the language, if your command is not found automatically, you may need to import the path to the file of environmental variable, and update the file.\n",
    "- When running a Rust script, you need to compile and run, totally two steps.\n",
    "- For this task, you can use Google or ChatGPT or other methods."
   ]
  }
 ],
 "metadata": {
  "kernelspec": {
   "display_name": "Python 3.10.5 64-bit",
   "language": "python",
   "name": "python3"
  },
  "language_info": {
   "name": "python",
   "version": "3.10.5"
  },
  "orig_nbformat": 4,
  "vscode": {
   "interpreter": {
    "hash": "2f9d6cf1e3d8195079a65c851de355134a77367bcd714b1a5d498c42d3c07114"
   }
  }
 },
 "nbformat": 4,
 "nbformat_minor": 2
}
