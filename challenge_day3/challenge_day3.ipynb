{
 "cells": [
  {
   "attachments": {},
   "cell_type": "markdown",
   "metadata": {},
   "source": [
    "# Observation Challenge\n",
    "\n",
    "In this challenge, you have to create an algorithm based on several algorithm parts.\n",
    "\n",
    "## Stations\n",
    "Across the JK building, we have placed several stations. At each station, you can find sample inputs and their expected outputs for one of the algorithm parts.\n",
    "You must decipher the algorithm behind each station yourself.\n",
    "The locations of all the stations are listed on the door of JK2.05.\n",
    "\n",
    "# Your task\n",
    "- Create files in this directory named station1.py, station2.py, etc.\n",
    "- Each member of the team must commit (including any changes) at least one of these files.\n",
    "- Each of these files contains a function named solution_station_X(), where X is the station number, same as the file name\n",
    "- Fill out the cell below and generate the correct overall output\n",
    "- You are allowed to use all built-in Python modules, as well as numpy and pandas in your solutions."
   ]
  },
  {
   "cell_type": "code",
   "execution_count": 3,
   "metadata": {},
   "outputs": [
    {
     "name": "stdout",
     "output_type": "stream",
     "text": [
      "Test for combined_algorithm failed: Input ('00:01', 5, '1990-01-01', 3, 1, 'Emma', 9, 'a+b') should return 3.5190509710811696e+16 but instead returned 0.4121184852417566.\n",
      "Test for combined_algorithm failed: Input ('00:02', 6, '1990-01-02', 4, 2, 'Emma', 8, 'b+c') should return 1.6897595679400317e+17 but instead returned 0.9893582466233818.\n",
      "Test for combined_algorithm failed: Input ('00:03', 7, '1990-01-03', 5, 3, 'Emma', 7, 'd*e') should return 2.1272497207141005e+17 but instead returned 0.6569865987187891.\n"
     ]
    }
   ],
   "source": [
    "from tests import tests\n",
    "from station1 import solution_station_1\n",
    "from station2 import solution_station_2\n",
    "from station3 import solution_station_3\n",
    "from station4 import solution_station_4\n",
    "from station5 import solution_station_5\n",
    "from station6 import solution_station_6\n",
    "from station7 import solution_station_7\n",
    "\n",
    "# List three observations of all inputs (not sample inputs) observed at the same time\n",
    "# Format: (time: str, station1_input: int, station2_input: str, station3_input: int, station4_input: int, station5_input: str, station6_input: int, station7_input: str)\n",
    "# Example: ('12:30:00', 1, '1990-01-01', 2, 3, \"John\", 4, \"e=mc^2\")\n",
    "observation1 = ('12:35:25', 59, '2024-07-10', 76041, 7604, 'Yash', 76, 'a*c')\n",
    "observation2 = ('12:35:35', 11, '2024-06-22', 96892, 9689, 'Alexia', 96, 'd*c')\n",
    "observation3 = ('12:35:52', 13, '2024-08-13', 82737, 8273, 'Al-fatihi', 82, 'd+a*b*c')\n",
    "\n",
    "\n",
    "def combined_algorithm(observations: tuple) -> int:\n",
    "    output1 = (solution_station_1(observations[1]))\n",
    "    output2 = (solution_station_2(observations[2]))\n",
    "    output3 = (solution_station_3(observations[3]))\n",
    "    output5 = (solution_station_5(observations[5]))\n",
    "    output4 = (solution_station_4(observations[4]))\n",
    "    output7 = (solution_station_7(observations[7]))\n",
    "    output6 = (solution_station_6(observations[6]))\n",
    "    assert isinstance(output1, int)\n",
    "    assert isinstance(output2, str)\n",
    "    assert isinstance(output3, bool)\n",
    "    assert isinstance(output4, bool)\n",
    "    assert isinstance(output5, int)\n",
    "    assert isinstance(output6, float)\n",
    "    assert isinstance(output7, float)\n",
    "    return output1 * int.from_bytes(output2[0].encode(\"unicode_escape\"), byteorder='big') * (3 if output3 else 2) * (5 if output4 else 4) * output5 * output6 * output7\n",
    "\n",
    "FINAL_OUTPUT1 = combined_algorithm(observation1)\n",
    "FINAL_OUTPUT2 = combined_algorithm(observation2)\n",
    "FINAL_OUTPUT3 = combined_algorithm(observation3)\n",
    "tests.Test_Exercise(combined_algorithm);"
   ]
  },
  {
   "cell_type": "code",
   "execution_count": null,
   "metadata": {},
   "outputs": [],
   "source": []
  },
  {
   "cell_type": "code",
   "execution_count": null,
   "metadata": {},
   "outputs": [],
   "source": []
  }
 ],
 "metadata": {
  "kernelspec": {
   "display_name": "Python 3.10.5 64-bit",
   "language": "python",
   "name": "python3"
  },
  "language_info": {
   "codemirror_mode": {
    "name": "ipython",
    "version": 3
   },
   "file_extension": ".py",
   "mimetype": "text/x-python",
   "name": "python",
   "nbconvert_exporter": "python",
   "pygments_lexer": "ipython3",
   "version": "3.9.13"
  },
  "orig_nbformat": 4,
  "vscode": {
   "interpreter": {
    "hash": "2f9d6cf1e3d8195079a65c851de355134a77367bcd714b1a5d498c42d3c07114"
   }
  }
 },
 "nbformat": 4,
 "nbformat_minor": 2
}
